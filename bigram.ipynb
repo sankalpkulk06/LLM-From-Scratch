{
 "cells": [
  {
   "cell_type": "code",
   "execution_count": 15,
   "id": "a6f24e00",
   "metadata": {},
   "outputs": [],
   "source": [
    "import torch"
   ]
  },
  {
   "cell_type": "code",
   "execution_count": 14,
   "id": "f6019365",
   "metadata": {},
   "outputs": [
    {
     "name": "stdout",
     "output_type": "stream",
     "text": [
      "﻿    THE TIN WOODMAN OF OZ\n",
      "\n",
      "    A Faithful Story of the Astonishing Adventure\n",
      "    Undertaken by the Tin Woodman, assisted\n",
      "    by Woot the Wanderer, the Scarecrow\n",
      "    of Oz, and Polychrome, the Rainbow\n"
     ]
    }
   ],
   "source": [
    "with open('wizard_of_oz.txt', 'r', encoding='utf-8') as f:\n",
    "    text = f.read()\n",
    "print(text[:200])"
   ]
  },
  {
   "cell_type": "code",
   "execution_count": 17,
   "id": "773ec4b4",
   "metadata": {},
   "outputs": [
    {
     "name": "stdout",
     "output_type": "stream",
     "text": [
      "['\\n', ' ', '!', '\"', '&', \"'\", ',', '-', '.', '0', '1', '2', '3', '4', '5', '6', '7', '8', '9', ':', ';', '=', '?', 'A', 'B', 'C', 'D', 'E', 'F', 'G', 'H', 'I', 'J', 'K', 'L', 'M', 'N', 'O', 'P', 'Q', 'R', 'S', 'T', 'U', 'V', 'W', 'Y', 'Z', '[', ']', '_', 'a', 'b', 'c', 'd', 'e', 'f', 'g', 'h', 'i', 'j', 'k', 'l', 'm', 'n', 'o', 'p', 'q', 'r', 's', 't', 'u', 'v', 'w', 'x', 'y', 'z', '\\ufeff']\n",
      "78\n"
     ]
    }
   ],
   "source": [
    "# get all the characters in text\n",
    "chars = sorted(set(text))\n",
    "print(chars)\n",
    "vocabulary_size = len(chars)\n",
    "print(vocabulary_size)"
   ]
  },
  {
   "cell_type": "code",
   "execution_count": 18,
   "id": "6a0ee2d9",
   "metadata": {},
   "outputs": [
    {
     "name": "stdout",
     "output_type": "stream",
     "text": [
      "[58, 55, 62, 62, 65]\n",
      "hello\n"
     ]
    }
   ],
   "source": [
    "string_to_int = { ch:i for i,ch in enumerate(chars) }\n",
    "int_to_string = { i:ch for i,ch in enumerate(chars) }\n",
    "encode = lambda s: [string_to_int[c] for c in s]\n",
    "decode = lambda l: ''.join([int_to_string[i] for i in l])\n",
    "\n",
    "print(encode('hello'))\n",
    "print(decode([58, 55, 62, 62, 65]))"
   ]
  },
  {
   "cell_type": "code",
   "execution_count": 21,
   "id": "1e508560",
   "metadata": {},
   "outputs": [
    {
     "name": "stdout",
     "output_type": "stream",
     "text": [
      "tensor([77,  1,  1,  1,  1, 42, 30, 27,  1, 42, 31, 36,  1, 45, 37, 37, 26, 35,\n",
      "        23, 36,  1, 37, 28,  1, 37, 47,  0,  0,  1,  1,  1,  1, 23,  1, 28, 51,\n",
      "        59, 70, 58, 56, 71, 62,  1, 41, 70, 65, 68, 75,  1, 65, 56,  1, 70, 58,\n",
      "        55,  1, 23, 69, 70, 65, 64, 59, 69, 58, 59, 64, 57,  1, 23, 54, 72, 55,\n",
      "        64, 70, 71, 68, 55,  0,  1,  1,  1,  1, 43, 64, 54, 55, 68, 70, 51, 61,\n",
      "        55, 64,  1, 52, 75,  1, 70, 58, 55,  1])\n"
     ]
    }
   ],
   "source": [
    "# storing the data as a tensor\n",
    "data = torch.tensor(encode(text), dtype=torch.long)\n",
    "print(data[:100])"
   ]
  },
  {
   "cell_type": "code",
   "execution_count": null,
   "id": "24c9afa8",
   "metadata": {},
   "outputs": [],
   "source": []
  }
 ],
 "metadata": {
  "kernelspec": {
   "display_name": "Python 3 (ipykernel)",
   "language": "python",
   "name": "python3"
  },
  "language_info": {
   "codemirror_mode": {
    "name": "ipython",
    "version": 3
   },
   "file_extension": ".py",
   "mimetype": "text/x-python",
   "name": "python",
   "nbconvert_exporter": "python",
   "pygments_lexer": "ipython3",
   "version": "3.9.1"
  }
 },
 "nbformat": 4,
 "nbformat_minor": 5
}
